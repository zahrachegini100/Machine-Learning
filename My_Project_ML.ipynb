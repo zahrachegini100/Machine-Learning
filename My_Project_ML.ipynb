{
 "cells": [
  {
   "cell_type": "markdown",
   "metadata": {},
   "source": [
    "#import nessesory libarries\n",
    "import numpy as np"
   ]
  },
  {
   "cell_type": "code",
   "execution_count": 6,
   "metadata": {},
   "outputs": [],
   "source": [
    "import numpy as np\n",
    "import pandas as pd\n",
    "import seaborn as sns\n",
    "from matplotlib import pyplot as plt\n",
    "from sklearn.model_selection import train_test_split\n",
    "from sklearn.preprocessing import LabelEncoder"
   ]
  },
  {
   "cell_type": "code",
   "execution_count": 3,
   "metadata": {},
   "outputs": [
    {
     "data": {
      "text/html": [
       "<div>\n",
       "<style scoped>\n",
       "    .dataframe tbody tr th:only-of-type {\n",
       "        vertical-align: middle;\n",
       "    }\n",
       "\n",
       "    .dataframe tbody tr th {\n",
       "        vertical-align: top;\n",
       "    }\n",
       "\n",
       "    .dataframe thead th {\n",
       "        text-align: right;\n",
       "    }\n",
       "</style>\n",
       "<table border=\"1\" class=\"dataframe\">\n",
       "  <thead>\n",
       "    <tr style=\"text-align: right;\">\n",
       "      <th></th>\n",
       "      <th>avg_monthly_hrs</th>\n",
       "      <th>department</th>\n",
       "      <th>filed_complaint</th>\n",
       "      <th>last_evaluation</th>\n",
       "      <th>n_projects</th>\n",
       "      <th>recently_promoted</th>\n",
       "      <th>salary</th>\n",
       "      <th>satisfaction</th>\n",
       "      <th>status</th>\n",
       "      <th>tenure</th>\n",
       "    </tr>\n",
       "  </thead>\n",
       "  <tbody>\n",
       "    <tr>\n",
       "      <td>0</td>\n",
       "      <td>221</td>\n",
       "      <td>engineering</td>\n",
       "      <td>NaN</td>\n",
       "      <td>0.932868</td>\n",
       "      <td>4</td>\n",
       "      <td>NaN</td>\n",
       "      <td>low</td>\n",
       "      <td>0.829896</td>\n",
       "      <td>Left</td>\n",
       "      <td>5.0</td>\n",
       "    </tr>\n",
       "    <tr>\n",
       "      <td>1</td>\n",
       "      <td>232</td>\n",
       "      <td>support</td>\n",
       "      <td>NaN</td>\n",
       "      <td>NaN</td>\n",
       "      <td>3</td>\n",
       "      <td>NaN</td>\n",
       "      <td>low</td>\n",
       "      <td>0.834544</td>\n",
       "      <td>Employed</td>\n",
       "      <td>2.0</td>\n",
       "    </tr>\n",
       "    <tr>\n",
       "      <td>2</td>\n",
       "      <td>184</td>\n",
       "      <td>sales</td>\n",
       "      <td>NaN</td>\n",
       "      <td>0.788830</td>\n",
       "      <td>3</td>\n",
       "      <td>NaN</td>\n",
       "      <td>medium</td>\n",
       "      <td>0.834988</td>\n",
       "      <td>Employed</td>\n",
       "      <td>3.0</td>\n",
       "    </tr>\n",
       "    <tr>\n",
       "      <td>3</td>\n",
       "      <td>206</td>\n",
       "      <td>sales</td>\n",
       "      <td>NaN</td>\n",
       "      <td>0.575688</td>\n",
       "      <td>4</td>\n",
       "      <td>NaN</td>\n",
       "      <td>low</td>\n",
       "      <td>0.424764</td>\n",
       "      <td>Employed</td>\n",
       "      <td>2.0</td>\n",
       "    </tr>\n",
       "    <tr>\n",
       "      <td>4</td>\n",
       "      <td>249</td>\n",
       "      <td>sales</td>\n",
       "      <td>NaN</td>\n",
       "      <td>0.845217</td>\n",
       "      <td>3</td>\n",
       "      <td>NaN</td>\n",
       "      <td>low</td>\n",
       "      <td>0.779043</td>\n",
       "      <td>Employed</td>\n",
       "      <td>3.0</td>\n",
       "    </tr>\n",
       "    <tr>\n",
       "      <td>5</td>\n",
       "      <td>140</td>\n",
       "      <td>sales</td>\n",
       "      <td>NaN</td>\n",
       "      <td>0.589097</td>\n",
       "      <td>4</td>\n",
       "      <td>NaN</td>\n",
       "      <td>medium</td>\n",
       "      <td>0.660020</td>\n",
       "      <td>Employed</td>\n",
       "      <td>4.0</td>\n",
       "    </tr>\n",
       "    <tr>\n",
       "      <td>6</td>\n",
       "      <td>121</td>\n",
       "      <td>sales</td>\n",
       "      <td>1.0</td>\n",
       "      <td>0.625399</td>\n",
       "      <td>3</td>\n",
       "      <td>NaN</td>\n",
       "      <td>low</td>\n",
       "      <td>0.835571</td>\n",
       "      <td>Employed</td>\n",
       "      <td>3.0</td>\n",
       "    </tr>\n",
       "    <tr>\n",
       "      <td>7</td>\n",
       "      <td>150</td>\n",
       "      <td>engineering</td>\n",
       "      <td>NaN</td>\n",
       "      <td>0.644586</td>\n",
       "      <td>4</td>\n",
       "      <td>NaN</td>\n",
       "      <td>low</td>\n",
       "      <td>0.796683</td>\n",
       "      <td>Employed</td>\n",
       "      <td>3.0</td>\n",
       "    </tr>\n",
       "    <tr>\n",
       "      <td>8</td>\n",
       "      <td>215</td>\n",
       "      <td>engineering</td>\n",
       "      <td>1.0</td>\n",
       "      <td>0.524114</td>\n",
       "      <td>3</td>\n",
       "      <td>NaN</td>\n",
       "      <td>medium</td>\n",
       "      <td>0.715005</td>\n",
       "      <td>Employed</td>\n",
       "      <td>7.0</td>\n",
       "    </tr>\n",
       "    <tr>\n",
       "      <td>9</td>\n",
       "      <td>269</td>\n",
       "      <td>support</td>\n",
       "      <td>NaN</td>\n",
       "      <td>0.909364</td>\n",
       "      <td>5</td>\n",
       "      <td>NaN</td>\n",
       "      <td>medium</td>\n",
       "      <td>0.994037</td>\n",
       "      <td>Employed</td>\n",
       "      <td>2.0</td>\n",
       "    </tr>\n",
       "  </tbody>\n",
       "</table>\n",
       "</div>"
      ],
      "text/plain": [
       "   avg_monthly_hrs   department  filed_complaint  last_evaluation  n_projects  \\\n",
       "0              221  engineering              NaN         0.932868           4   \n",
       "1              232      support              NaN              NaN           3   \n",
       "2              184        sales              NaN         0.788830           3   \n",
       "3              206        sales              NaN         0.575688           4   \n",
       "4              249        sales              NaN         0.845217           3   \n",
       "5              140        sales              NaN         0.589097           4   \n",
       "6              121        sales              1.0         0.625399           3   \n",
       "7              150  engineering              NaN         0.644586           4   \n",
       "8              215  engineering              1.0         0.524114           3   \n",
       "9              269      support              NaN         0.909364           5   \n",
       "\n",
       "   recently_promoted  salary  satisfaction    status  tenure  \n",
       "0                NaN     low      0.829896      Left     5.0  \n",
       "1                NaN     low      0.834544  Employed     2.0  \n",
       "2                NaN  medium      0.834988  Employed     3.0  \n",
       "3                NaN     low      0.424764  Employed     2.0  \n",
       "4                NaN     low      0.779043  Employed     3.0  \n",
       "5                NaN  medium      0.660020  Employed     4.0  \n",
       "6                NaN     low      0.835571  Employed     3.0  \n",
       "7                NaN     low      0.796683  Employed     3.0  \n",
       "8                NaN  medium      0.715005  Employed     7.0  \n",
       "9                NaN  medium      0.994037  Employed     2.0  "
      ]
     },
     "execution_count": 3,
     "metadata": {},
     "output_type": "execute_result"
    }
   ],
   "source": [
    "employee_data= pd.read_csv(\"C:/Users/zahra/OneDrive/Desktop/Mestrado ISEC/Machine Learning/Project/employee_data (1).csv\")\n",
    "employee_data.head(10)"
   ]
  },
  {
   "cell_type": "code",
   "execution_count": 9,
   "metadata": {},
   "outputs": [
    {
     "data": {
      "text/plain": [
       "(14249, 10)"
      ]
     },
     "execution_count": 9,
     "metadata": {},
     "output_type": "execute_result"
    }
   ],
   "source": [
    "employee_data.shape"
   ]
  },
  {
   "cell_type": "code",
   "execution_count": 10,
   "metadata": {},
   "outputs": [
    {
     "data": {
      "text/plain": [
       "<bound method DataFrame.info of        avg_monthly_hrs   department  filed_complaint  last_evaluation  \\\n",
       "0                  221  engineering              NaN         0.932868   \n",
       "1                  232      support              NaN              NaN   \n",
       "2                  184        sales              NaN         0.788830   \n",
       "3                  206        sales              NaN         0.575688   \n",
       "4                  249        sales              NaN         0.845217   \n",
       "...                ...          ...              ...              ...   \n",
       "14244              178           IT              NaN         0.735865   \n",
       "14245              257        sales              NaN         0.638604   \n",
       "14246              232      finance              1.0         0.847623   \n",
       "14247              130           IT              NaN         0.757184   \n",
       "14248              159          NaN              NaN         0.578742   \n",
       "\n",
       "       n_projects  recently_promoted  salary  satisfaction    status  tenure  \n",
       "0               4                NaN     low      0.829896      Left     5.0  \n",
       "1               3                NaN     low      0.834544  Employed     2.0  \n",
       "2               3                NaN  medium      0.834988  Employed     3.0  \n",
       "3               4                NaN     low      0.424764  Employed     2.0  \n",
       "4               3                NaN     low      0.779043  Employed     3.0  \n",
       "...           ...                ...     ...           ...       ...     ...  \n",
       "14244           5                NaN     low      0.263282  Employed     5.0  \n",
       "14245           3                NaN     low      0.868209  Employed     2.0  \n",
       "14246           5                NaN  medium      0.898917      Left     5.0  \n",
       "14247           4                NaN  medium      0.641304  Employed     3.0  \n",
       "14248           3                NaN  medium      0.808850  Employed     3.0  \n",
       "\n",
       "[14249 rows x 10 columns]>"
      ]
     },
     "execution_count": 10,
     "metadata": {},
     "output_type": "execute_result"
    }
   ],
   "source": [
    "employee_data.info"
   ]
  },
  {
   "cell_type": "code",
   "execution_count": 4,
   "metadata": {},
   "outputs": [
    {
     "data": {
      "text/plain": [
       "<bound method NDFrame.describe of        avg_monthly_hrs   department  filed_complaint  last_evaluation  \\\n",
       "0                  221  engineering              NaN         0.932868   \n",
       "1                  232      support              NaN              NaN   \n",
       "2                  184        sales              NaN         0.788830   \n",
       "3                  206        sales              NaN         0.575688   \n",
       "4                  249        sales              NaN         0.845217   \n",
       "...                ...          ...              ...              ...   \n",
       "14244              178           IT              NaN         0.735865   \n",
       "14245              257        sales              NaN         0.638604   \n",
       "14246              232      finance              1.0         0.847623   \n",
       "14247              130           IT              NaN         0.757184   \n",
       "14248              159          NaN              NaN         0.578742   \n",
       "\n",
       "       n_projects  recently_promoted  salary  satisfaction    status  tenure  \n",
       "0               4                NaN     low      0.829896      Left     5.0  \n",
       "1               3                NaN     low      0.834544  Employed     2.0  \n",
       "2               3                NaN  medium      0.834988  Employed     3.0  \n",
       "3               4                NaN     low      0.424764  Employed     2.0  \n",
       "4               3                NaN     low      0.779043  Employed     3.0  \n",
       "...           ...                ...     ...           ...       ...     ...  \n",
       "14244           5                NaN     low      0.263282  Employed     5.0  \n",
       "14245           3                NaN     low      0.868209  Employed     2.0  \n",
       "14246           5                NaN  medium      0.898917      Left     5.0  \n",
       "14247           4                NaN  medium      0.641304  Employed     3.0  \n",
       "14248           3                NaN  medium      0.808850  Employed     3.0  \n",
       "\n",
       "[14249 rows x 10 columns]>"
      ]
     },
     "execution_count": 4,
     "metadata": {},
     "output_type": "execute_result"
    }
   ],
   "source": [
    "employee_data.describe"
   ]
  },
  {
   "cell_type": "code",
   "execution_count": 18,
   "metadata": {},
   "outputs": [
    {
     "data": {
      "text/html": [
       "<div>\n",
       "<style scoped>\n",
       "    .dataframe tbody tr th:only-of-type {\n",
       "        vertical-align: middle;\n",
       "    }\n",
       "\n",
       "    .dataframe tbody tr th {\n",
       "        vertical-align: top;\n",
       "    }\n",
       "\n",
       "    .dataframe thead th {\n",
       "        text-align: right;\n",
       "    }\n",
       "</style>\n",
       "<table border=\"1\" class=\"dataframe\">\n",
       "  <thead>\n",
       "    <tr style=\"text-align: right;\">\n",
       "      <th></th>\n",
       "      <th>department</th>\n",
       "      <th>salary</th>\n",
       "      <th>status</th>\n",
       "    </tr>\n",
       "  </thead>\n",
       "  <tbody>\n",
       "    <tr>\n",
       "      <td>0</td>\n",
       "      <td>engineering</td>\n",
       "      <td>low</td>\n",
       "      <td>Left</td>\n",
       "    </tr>\n",
       "    <tr>\n",
       "      <td>1</td>\n",
       "      <td>support</td>\n",
       "      <td>low</td>\n",
       "      <td>Employed</td>\n",
       "    </tr>\n",
       "    <tr>\n",
       "      <td>2</td>\n",
       "      <td>sales</td>\n",
       "      <td>medium</td>\n",
       "      <td>Employed</td>\n",
       "    </tr>\n",
       "    <tr>\n",
       "      <td>3</td>\n",
       "      <td>sales</td>\n",
       "      <td>low</td>\n",
       "      <td>Employed</td>\n",
       "    </tr>\n",
       "    <tr>\n",
       "      <td>4</td>\n",
       "      <td>sales</td>\n",
       "      <td>low</td>\n",
       "      <td>Employed</td>\n",
       "    </tr>\n",
       "    <tr>\n",
       "      <td>5</td>\n",
       "      <td>sales</td>\n",
       "      <td>medium</td>\n",
       "      <td>Employed</td>\n",
       "    </tr>\n",
       "    <tr>\n",
       "      <td>6</td>\n",
       "      <td>sales</td>\n",
       "      <td>low</td>\n",
       "      <td>Employed</td>\n",
       "    </tr>\n",
       "    <tr>\n",
       "      <td>7</td>\n",
       "      <td>engineering</td>\n",
       "      <td>low</td>\n",
       "      <td>Employed</td>\n",
       "    </tr>\n",
       "    <tr>\n",
       "      <td>8</td>\n",
       "      <td>engineering</td>\n",
       "      <td>medium</td>\n",
       "      <td>Employed</td>\n",
       "    </tr>\n",
       "    <tr>\n",
       "      <td>9</td>\n",
       "      <td>support</td>\n",
       "      <td>medium</td>\n",
       "      <td>Employed</td>\n",
       "    </tr>\n",
       "  </tbody>\n",
       "</table>\n",
       "</div>"
      ],
      "text/plain": [
       "    department  salary    status\n",
       "0  engineering     low      Left\n",
       "1      support     low  Employed\n",
       "2        sales  medium  Employed\n",
       "3        sales     low  Employed\n",
       "4        sales     low  Employed\n",
       "5        sales  medium  Employed\n",
       "6        sales     low  Employed\n",
       "7  engineering     low  Employed\n",
       "8  engineering  medium  Employed\n",
       "9      support  medium  Employed"
      ]
     },
     "execution_count": 18,
     "metadata": {},
     "output_type": "execute_result"
    }
   ],
   "source": [
    "# extract categorical Columns\n",
    "employee_data_numerical=employee_data[[\"department\",\"salary\",\"status\"]].copy()\n",
    "employee_data_numerical.head(10)"
   ]
  },
  {
   "cell_type": "code",
   "execution_count": 5,
   "metadata": {},
   "outputs": [
    {
     "data": {
      "text/plain": [
       "avg_monthly_hrs          0\n",
       "department             709\n",
       "filed_complaint      12191\n",
       "last_evaluation       1532\n",
       "n_projects               0\n",
       "recently_promoted    13949\n",
       "salary                   0\n",
       "satisfaction           181\n",
       "status                   0\n",
       "tenure                 181\n",
       "dtype: int64"
      ]
     },
     "execution_count": 5,
     "metadata": {},
     "output_type": "execute_result"
    }
   ],
   "source": [
    "employee_data.isna().sum()"
   ]
  },
  {
   "cell_type": "code",
   "execution_count": 11,
   "metadata": {},
   "outputs": [
    {
     "data": {
      "text/plain": [
       "Employed    10857\n",
       "Left         3392\n",
       "Name: status, dtype: int64"
      ]
     },
     "execution_count": 11,
     "metadata": {},
     "output_type": "execute_result"
    }
   ],
   "source": [
    "# getting number of diffrerent class here like predict how many stay and how many left for EX\n",
    "employee_data.status.value_counts()"
   ]
  },
  {
   "cell_type": "code",
   "execution_count": 12,
   "metadata": {},
   "outputs": [
    {
     "data": {
      "text/plain": [
       "[Empty DataFrame\n",
       " Columns: [avg_monthly_hrs, department, filed_complaint, last_evaluation, n_projects, recently_promoted, salary, satisfaction, status, tenure]\n",
       " Index: []]"
      ]
     },
     "execution_count": 12,
     "metadata": {},
     "output_type": "execute_result"
    }
   ],
   "source": [
    "null_rows=[employee_data[employee_data[\"salary\"].isnull()]]\n",
    "null_rows"
   ]
  },
  {
   "cell_type": "code",
   "execution_count": 26,
   "metadata": {},
   "outputs": [
    {
     "data": {
      "text/plain": [
       "Text(0.5, 1.0, 'Status employees distribuition')"
      ]
     },
     "execution_count": 26,
     "metadata": {},
     "output_type": "execute_result"
    },
    {
     "data": {
      "image/png": "[encoded data removed]",
      "text/plain": [
       "<Figure size 432x288 with 1 Axes>"
      ]
     },
     "metadata": {
      "needs_background": "light"
     },
     "output_type": "display_data"
    }
   ],
   "source": [
    "sns.countplot(x=\"status\", data= employee_data, palette=\"Set3\")\n",
    "plt.title(\"Status employees distribuition\")"
   ]
  },
  {
   "cell_type": "code",
   "execution_count": 29,
   "metadata": {},
   "outputs": [
    {
     "data": {
      "text/plain": [
       "<matplotlib.legend.Legend at 0x1948fe8c888>"
      ]
     },
     "execution_count": 29,
     "metadata": {},
     "output_type": "execute_result"
    },
    {
     "data": {
      "image/png": "[encoded data removed]",
      "text/plain": [
       "<Figure size 432x288 with 1 Axes>"
      ]
     },
     "metadata": {
      "needs_background": "light"
     },
     "output_type": "display_data"
    }
   ],
   "source": [
    "sns.countplot(x=\"status\", data=employee_data, hue=\"department\")\n",
    "plt.title(\"status employee distribuition vs department\")\n",
    "plt.legend(bbox_to_anchor=(1.05, 1), loc=2, borderaxespad=0.)"
   ]
  },
  {
   "cell_type": "code",
   "execution_count": 30,
   "metadata": {},
   "outputs": [
    {
     "data": {
      "text/plain": [
       "low       6952\n",
       "medium    6146\n",
       "high      1151\n",
       "Name: salary, dtype: int64"
      ]
     },
     "execution_count": 30,
     "metadata": {},
     "output_type": "execute_result"
    }
   ],
   "source": [
    "employee_data[\"salary\"].value_counts()"
   ]
  },
  {
   "cell_type": "code",
   "execution_count": 32,
   "metadata": {},
   "outputs": [
    {
     "data": {
      "image/png": "[encoded data removed]",
      "text/plain": [
       "<Figure size 1080x504 with 9 Axes>"
      ]
     },
     "metadata": {
      "needs_background": "light"
     },
     "output_type": "display_data"
    }
   ],
   "source": [
    "employee_data.hist(bins=50, figsize=(15,7))\n",
    "plt.show()"
   ]
  },
  {
   "cell_type": "code",
   "execution_count": null,
   "metadata": {},
   "outputs": [],
   "source": []
  }
 ],
 "metadata": {
  "kernelspec": {
   "display_name": "base",
   "language": "python",
   "name": "python3"
  },
  "language_info": {
   "codemirror_mode": {
    "name": "ipython",
    "version": 3
   },
   "file_extension": ".py",
   "mimetype": "text/x-python",
   "name": "python",
   "nbconvert_exporter": "python",
   "pygments_lexer": "ipython3",
   "version": "3.7.4"
  }
 },
 "nbformat": 4,
 "nbformat_minor": 2
}
